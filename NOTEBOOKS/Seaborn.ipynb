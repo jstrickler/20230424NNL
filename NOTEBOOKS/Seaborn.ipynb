{
 "cells": [
  {
   "cell_type": "markdown",
   "id": "6a877040",
   "metadata": {},
   "source": [
    "# Seaborn"
   ]
  },
  {
   "cell_type": "markdown",
   "id": "7d969701",
   "metadata": {},
   "source": [
    "## Not ready for prime time...\n",
    "\n",
    "The \"real\" version of this notebook will be provided during class. "
   ]
  },
  {
   "cell_type": "code",
   "execution_count": null,
   "id": "d8b099a2",
   "metadata": {},
   "outputs": [],
   "source": []
  }
 ],
 "metadata": {
  "kernelspec": {
   "display_name": "Python 3 (ipykernel)",
   "language": "python",
   "name": "python3"
  },
  "language_info": {
   "codemirror_mode": {
    "name": "ipython",
    "version": 3
   },
   "file_extension": ".py",
   "mimetype": "text/x-python",
   "name": "python",
   "nbconvert_exporter": "python",
   "pygments_lexer": "ipython3",
   "version": "3.9.12"
  }
 },
 "nbformat": 4,
 "nbformat_minor": 5
}
