{
 "cells": [
  {
   "cell_type": "markdown",
   "id": "805cd70c",
   "metadata": {},
   "source": [
    "# My Notebook (with no wombats)"
   ]
  },
  {
   "cell_type": "code",
   "execution_count": 1,
   "id": "86ff86b3",
   "metadata": {},
   "outputs": [],
   "source": [
    "from datetime import datetime"
   ]
  },
  {
   "cell_type": "code",
   "execution_count": 2,
   "id": "da390595",
   "metadata": {},
   "outputs": [
    {
     "data": {
      "text/plain": [
       "datetime.datetime(2023, 4, 25, 15, 11, 56, 163132)"
      ]
     },
     "execution_count": 2,
     "metadata": {},
     "output_type": "execute_result"
    }
   ],
   "source": [
    "now = datetime.now()\n",
    "now"
   ]
  },
  {
   "cell_type": "markdown",
   "id": "56facda3",
   "metadata": {},
   "source": [
    "## first section"
   ]
  },
  {
   "cell_type": "code",
   "execution_count": 3,
   "id": "b50fe6c3",
   "metadata": {},
   "outputs": [
    {
     "name": "stdout",
     "output_type": "stream",
     "text": [
      "doing something import here....\n",
      "No, really, it's important\n"
     ]
    }
   ],
   "source": [
    "print(\"doing something import here....\")\n",
    "\n",
    "print(\"No, really, it's important\")"
   ]
  },
  {
   "cell_type": "code",
   "execution_count": 4,
   "id": "463b7536",
   "metadata": {},
   "outputs": [
    {
     "name": "stdout",
     "output_type": "stream",
     "text": [
      "Hello\n"
     ]
    }
   ],
   "source": [
    "print(\"Hello\")"
   ]
  },
  {
   "cell_type": "code",
   "execution_count": 5,
   "id": "82b1e7b5",
   "metadata": {},
   "outputs": [
    {
     "name": "stdout",
     "output_type": "stream",
     "text": [
      "0\n",
      "10\n",
      "20\n",
      "30\n",
      "40\n",
      "50\n",
      "60\n",
      "70\n",
      "80\n",
      "90\n"
     ]
    }
   ],
   "source": [
    "for i in range(10):\n",
    "    print(i * 10)"
   ]
  },
  {
   "cell_type": "markdown",
   "id": "d351f60f",
   "metadata": {},
   "source": [
    "#### some more stuff"
   ]
  },
  {
   "cell_type": "code",
   "execution_count": null,
   "id": "9fc98a84",
   "metadata": {},
   "outputs": [],
   "source": []
  }
 ],
 "metadata": {
  "kernelspec": {
   "display_name": "Python 3 (ipykernel)",
   "language": "python",
   "name": "python3"
  },
  "language_info": {
   "codemirror_mode": {
    "name": "ipython",
    "version": 3
   },
   "file_extension": ".py",
   "mimetype": "text/x-python",
   "name": "python",
   "nbconvert_exporter": "python",
   "pygments_lexer": "ipython3",
   "version": "3.9.12"
  }
 },
 "nbformat": 4,
 "nbformat_minor": 5
}